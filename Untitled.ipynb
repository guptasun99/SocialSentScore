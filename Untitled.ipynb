{
  "nbformat": 4,
  "nbformat_minor": 0,
  "metadata": {
    "colab": {
      "provenance": [],
      "authorship_tag": "ABX9TyOpSK8eoZh7dxuSHXMboxgW",
      "include_colab_link": true
    },
    "kernelspec": {
      "name": "python3",
      "display_name": "Python 3"
    },
    "language_info": {
      "name": "python"
    }
  },
  "cells": [
    {
      "cell_type": "markdown",
      "metadata": {
        "id": "view-in-github",
        "colab_type": "text"
      },
      "source": [
        "<a href=\"https://colab.research.google.com/github/guptasun99/SocialSentScore/blob/main/Untitled.ipynb\" target=\"_parent\"><img src=\"https://colab.research.google.com/assets/colab-badge.svg\" alt=\"Open In Colab\"/></a>"
      ]
    },
    {
      "cell_type": "code",
      "execution_count": 2,
      "metadata": {
        "colab": {
          "base_uri": "https://localhost:8080/"
        },
        "id": "FYqtz9tv27pd",
        "outputId": "80535d98-8bce-4d1a-920f-e0f011747877"
      },
      "outputs": [
        {
          "output_type": "stream",
          "name": "stdout",
          "text": [
            "a. p(x) in nested form: (((6 * x - 2) * x - 3) * x + 7)\n",
            "   Evaluation at x = -0.5: 7.25\n",
            "b. p(x) in nested form: (((((8 * x - 1) * x - 3) * x + 1) * x - 3) * x + 1)\n",
            "   Evaluation at x = -0.5: 2.8125\n",
            "c. p(x) in nested form: ((((((4 * x + 0) * x - 2) * x + 0) * x + 0) * x - 2) * x + 4)\n",
            "   Evaluation at x = -0.5: 4.9375\n"
          ]
        }
      ],
      "source": [
        "# Part a\n",
        "x = -1/2\n",
        "p_a = (((6 * x - 2) * x - 3) * x + 7)\n",
        "print(f\"a. p(x) in nested form: (((6 * x - 2) * x - 3) * x + 7)\")\n",
        "print(f\"   Evaluation at x = {x}: {p_a}\")\n",
        "\n",
        "# Part b\n",
        "p_b = (((((8 * x - 1) * x - 3) * x + 1) * x - 3) * x + 1)\n",
        "print(f\"b. p(x) in nested form: (((((8 * x - 1) * x - 3) * x + 1) * x - 3) * x + 1)\")\n",
        "print(f\"   Evaluation at x = {x}: {p_b}\")\n",
        "\n",
        "# Part c\n",
        "# Rewrite p(x) = 4x^6 + 0x^5 - 2x^4 + 0x^3 + 0x^2 - 2x + 4\n",
        "p_c = ((((((4 * x + 0) * x - 2) * x + 0) * x + 0) * x - 2) * x + 4)\n",
        "print(f\"c. p(x) in nested form: ((((((4 * x + 0) * x - 2) * x + 0) * x + 0) * x - 2) * x + 4)\")\n",
        "print(f\"   Evaluation at x = {x}: {p_c}\")"
      ]
    }
  ]
}